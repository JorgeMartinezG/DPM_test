{
 "cells": [
  {
   "cell_type": "code",
   "execution_count": 41,
   "id": "eef62fb6",
   "metadata": {},
   "outputs": [],
   "source": [
    "import fiona\n",
    "import numpy as np\n",
    "import os\n",
    "import rasterio\n",
    "from os.path import join\n",
    "from rasterio.mask import mask\n",
    "from rasterio.plot import show\n",
    "from rasterio.warp import reproject, Resampling, calculate_default_transform\n",
    "from rasterstats import zonal_stats\n",
    "from shapely.geometry import box\n",
    "from rasterstats import zonal_stats"
   ]
  },
  {
   "cell_type": "markdown",
   "id": "03c6dfda",
   "metadata": {},
   "source": [
    "## Define paths"
   ]
  },
  {
   "cell_type": "code",
   "execution_count": 27,
   "id": "d2fdc62c",
   "metadata": {},
   "outputs": [],
   "source": [
    "WORKDIR = \"/Users/gis/data\"\n",
    "FLOOD_RASTER_LAYER_PATH = join(WORKDIR, \"JRC\", \"floodMapGL_rp10.tif\")\n",
    "WORLDPOP_RASTER = join(WORKDIR, \"worldpop\",\"per_ppp_2020_UNadj.tif\")\n",
    "BOUNDARIES_PATH = join(WORKDIR, \"boundaries\", \"per_adm2.shp\")\n",
    "\n",
    "OUTPUT_FOLDER = join(WORKDIR, \"flood_analysis_outputs\")\n",
    "CLIPPED_FLOOD_RASTER = join(OUTPUT_FOLDER, \"clipped_flood.tif\")\n",
    "INTERSECTED_FLOOD_RASTER = join(OUTPUT_FOLDER, \"intersect.tif\")\n",
    "\n",
    "if not os.path.isdir(OUTPUT_FOLDER):\n",
    "    os.mkdir(OUTPUT_FOLDER)"
   ]
  },
  {
   "cell_type": "markdown",
   "id": "bec1cebf",
   "metadata": {},
   "source": [
    "## Clip world flood raster using country boundaries"
   ]
  },
  {
   "cell_type": "code",
   "execution_count": 28,
   "id": "a052bef9",
   "metadata": {},
   "outputs": [],
   "source": [
    "with rasterio.open(FLOOD_RASTER_LAYER_PATH) as src:\n",
    "    with fiona.open(BOUNDARIES_PATH, \"r\") as shapefile:\n",
    "        bbox = box(*shapefile.bounds)\n",
    "    out_image, out_transform = mask(src, [bbox], crop=True)\n",
    "    _, height, width = out_image.shape\n",
    "\n",
    "    metadata = src.meta.copy()\n",
    "    out_meta = {**metadata, \"height\": height, \"width\": width, \"transform\": out_transform}\n",
    "\n",
    "    # Binarize.\n",
    "    bin_image = (out_image > 0).astype(int)\n",
    "        \n",
    "    with rasterio.open(CLIPPED_FLOOD_RASTER, \"w\", **out_meta) as dest:\n",
    "        dest.nodata = 0\n",
    "        dest.write(bin_image)"
   ]
  },
  {
   "cell_type": "markdown",
   "id": "32f745aa",
   "metadata": {},
   "source": [
    "## Upsample"
   ]
  },
  {
   "cell_type": "code",
   "execution_count": 46,
   "id": "d29c72df",
   "metadata": {},
   "outputs": [
    {
     "name": "stdout",
     "output_type": "stream",
     "text": [
      "Coregistered to shape: 21977 15214 \n",
      " Affine | 0.00, 0.00,-81.33|\n",
      "| 0.00,-0.00,-0.04|\n",
      "| 0.00, 0.00, 1.00|\n"
     ]
    }
   ],
   "source": [
    "with rasterio.open(CLIPPED_FLOOD_RASTER) as src:\n",
    "    src_transform = src.transform\n",
    "\n",
    "    # open input to match\n",
    "    with rasterio.open(WORLDPOP_RASTER) as match:\n",
    "        dst_crs = match.crs\n",
    "\n",
    "        # calculate the output transform matrix\n",
    "        dst_transform, dst_width, dst_height = calculate_default_transform(\n",
    "            src.crs,     # input CRS\n",
    "            dst_crs,     # output CRS\n",
    "            match.width,   # input width\n",
    "            match.height,  # input height \n",
    "            *match.bounds,  # unpacks input outer boundaries (left, bottom, right, top)\n",
    "        )\n",
    "\n",
    "    # set properties for output\n",
    "    dst_kwargs = src.meta.copy()\n",
    "    dst_kwargs.update({\"crs\": dst_crs,\n",
    "                       \"transform\": dst_transform,\n",
    "                       \"width\": dst_width,\n",
    "                       \"height\": dst_height,\n",
    "                       \"nodata\": 0})\n",
    "    print(\"Coregistered to shape:\", dst_height,dst_width,'\\n Affine',dst_transform)\n",
    "    # open output\n",
    "    with rasterio.open(CLIPPED_FLOOD_RASTER, \"w\", **dst_kwargs) as dst:\n",
    "        # iterate through bands and write using reproject function\n",
    "        for i in range(1, src.count + 1):\n",
    "            reproject(\n",
    "                source=rasterio.band(src, i),\n",
    "                destination=rasterio.band(dst, i),\n",
    "                src_transform=src.transform,\n",
    "                src_crs=src.crs,\n",
    "                dst_transform=dst_transform,\n",
    "                dst_crs=dst_crs,\n",
    "                resampling=Resampling.nearest)"
   ]
  },
  {
   "cell_type": "markdown",
   "id": "92d17dd9",
   "metadata": {},
   "source": [
    "## Find intersecting pixels using worldpop raster"
   ]
  },
  {
   "cell_type": "code",
   "execution_count": 47,
   "id": "15412ec2",
   "metadata": {},
   "outputs": [],
   "source": [
    "with rasterio.open(CLIPPED_FLOOD_RASTER) as fl_src:\n",
    "    fl_img = fl_src.read(1)\n",
    "    \n",
    "    with rasterio.open(WORLDPOP_RASTER) as wp_src:\n",
    "        wp_img = wp_src.read(1)        \n",
    "        wp_img[wp_img < 0] = 0\n",
    "        assert wp_img.shape == fl_img.shape\n",
    "            \n",
    "        res = np.where(fl_img == 1, wp_img, 0)        \n",
    "        \n",
    "        height, width = res.shape\n",
    "        metadata = wp_src.meta.copy()\n",
    "                \n",
    "        out_meta = {**metadata, \"height\": height, \"width\": width, \"transform\": wp_src.transform}        \n",
    "        \n",
    "        with rasterio.open(INTERSECTED_FLOOD_RASTER, \"w\", **out_meta) as dest:\n",
    "            dest.nodata = 0\n",
    "            dest.write(res, indexes=1)"
   ]
  },
  {
   "cell_type": "code",
   "execution_count": 38,
   "id": "0526eccc",
   "metadata": {},
   "outputs": [
    {
     "data": {
      "text/plain": [
       "(21977, 15214)"
      ]
     },
     "execution_count": 38,
     "metadata": {},
     "output_type": "execute_result"
    }
   ],
   "source": [
    "wp_img.shape"
   ]
  },
  {
   "cell_type": "markdown",
   "id": "c180d63b",
   "metadata": {},
   "source": [
    "## Run zonal statistics"
   ]
  },
  {
   "cell_type": "code",
   "execution_count": 48,
   "id": "c8566779",
   "metadata": {},
   "outputs": [],
   "source": [
    "stats = zonal_stats(BOUNDARIES_PATH, INTERSECTED_FLOOD_RASTER, stats=[\"sum\"], geojson_out=True)"
   ]
  },
  {
   "cell_type": "code",
   "execution_count": 49,
   "id": "718e98f1",
   "metadata": {},
   "outputs": [],
   "source": [
    "res = {k[\"properties\"][\"adm2_name\"]: k[\"properties\"][\"sum\"] for k in stats}"
   ]
  },
  {
   "cell_type": "code",
   "execution_count": 50,
   "id": "bd67e814",
   "metadata": {},
   "outputs": [
    {
     "data": {
      "text/plain": [
       "{'Abancay': 1699.4576416015625,\n",
       " 'Acobamba': 635.5490112304688,\n",
       " 'Acomayo': None,\n",
       " 'Aija': None,\n",
       " 'Alto Amazonas': 31628.130859375,\n",
       " 'Ambo': None,\n",
       " 'Andahuaylas': 320.6507873535156,\n",
       " 'Angaraes': 214.17922973632812,\n",
       " 'Anta': 332.9049072265625,\n",
       " 'Antabamba': None,\n",
       " 'Antonio Raymondi': 66.67916107177734,\n",
       " 'Arequipa': 10364.0966796875,\n",
       " 'Ascope': None,\n",
       " 'Asuncion': None,\n",
       " 'Atalaya': 8151.66259765625,\n",
       " 'Ayabaca': 335.44195556640625,\n",
       " 'Aymaraes': 263.64215087890625,\n",
       " 'Azangaro': 9830.97265625,\n",
       " 'Bagua': 6302.21435546875,\n",
       " 'Barranca': None,\n",
       " 'Bellavista': 19386.126953125,\n",
       " 'Bolivar': 647.239501953125,\n",
       " 'Bolognesi': None,\n",
       " 'Bongara': None,\n",
       " 'Cajabamba': 234.61306762695312,\n",
       " 'Cajamarca': None,\n",
       " 'Cajatambo': None,\n",
       " 'Calca': 13526.509765625,\n",
       " 'Callao': None,\n",
       " 'Camana': 26121.01171875,\n",
       " 'Canas': 2.5701284408569336,\n",
       " 'Canchis': None,\n",
       " 'Candarave': None,\n",
       " 'Cañete': 11572.263671875,\n",
       " 'Cangallo': 1153.089599609375,\n",
       " 'Canta': None,\n",
       " 'Carabaya': 1628.4200439453125,\n",
       " 'Caraveli': 0.7215911746025085,\n",
       " 'Carhuaz': None,\n",
       " 'Carlos Fermin Fitzcarrald': 44.30669021606445,\n",
       " 'Casma': None,\n",
       " 'Castilla': 7381.3271484375,\n",
       " 'Castrovirreyna': None,\n",
       " 'Caylloma': 70.41162872314453,\n",
       " 'Celendin': 541.4658813476562,\n",
       " 'Chachapoyas': 226.74386596679688,\n",
       " 'Chanchamayo': 33404.01171875,\n",
       " 'Chepen': None,\n",
       " 'Chiclayo': None,\n",
       " 'Chincha': None,\n",
       " 'Chincheros': 1952.6202392578125,\n",
       " 'Chota': 453.0080261230469,\n",
       " 'Chucuito': 6175.60205078125,\n",
       " 'Chumbivilcas': None,\n",
       " 'Chupaca': 5841.82275390625,\n",
       " 'Churcampa': 2872.83837890625,\n",
       " 'Concepcion': 1824.6102294921875,\n",
       " 'Condesuyos': 1151.0223388671875,\n",
       " 'Condorcanqui': 3098.222900390625,\n",
       " 'Contralmirante Villar': None,\n",
       " 'Contumaza': None,\n",
       " 'Coronel Portillo': 94150.40625,\n",
       " 'Corongo': 73.54248809814453,\n",
       " 'Cotabambas': 109.37220764160156,\n",
       " 'Cusco': None,\n",
       " 'Cutervo': 2108.129150390625,\n",
       " 'Daniel Alcides Carrion': None,\n",
       " 'Datem Del Marañon': 7979.3759765625,\n",
       " 'Dos De Mayo': None,\n",
       " 'El Collao': 9547.98046875,\n",
       " 'El Dorado': None,\n",
       " 'Espinar': 105.71316528320312,\n",
       " 'Ferreñafe': None,\n",
       " 'General Sanchez Cerro': 350.2034912109375,\n",
       " 'Gran Chimu': None,\n",
       " 'Grau': None,\n",
       " 'Huacaybamba': 411.1031494140625,\n",
       " 'Hualgayoc': None,\n",
       " 'Huallaga': 584.4525756835938,\n",
       " 'Huamalies': 711.5225219726562,\n",
       " 'Huamanga': 366.63232421875,\n",
       " 'Huanca Sancos': None,\n",
       " 'Huancabamba': None,\n",
       " 'Huancane': 10465.5068359375,\n",
       " 'Huancavelica': 3351.8330078125,\n",
       " 'Huancayo': 21004.798828125,\n",
       " 'Huanta': 3919.935791015625,\n",
       " 'Huanuco': 5588.8173828125,\n",
       " 'Huaral': None,\n",
       " 'Huaraz': None,\n",
       " 'Huari': 155.81100463867188,\n",
       " 'Huarmey': None,\n",
       " 'Huarochiri': None,\n",
       " 'Huaura': None,\n",
       " 'Huaylas': 300.7014465332031,\n",
       " 'Huaytara': None,\n",
       " 'Ica': 99.5998306274414,\n",
       " 'Ilo': None,\n",
       " 'Islay': 2261.777099609375,\n",
       " 'Jaen': 4403.62353515625,\n",
       " 'Jauja': 5350.1279296875,\n",
       " 'Jorge Basadre': None,\n",
       " 'Julcan': None,\n",
       " 'Junin': None,\n",
       " 'La Convencion': 21892.17578125,\n",
       " 'La Mar': 3807.90625,\n",
       " 'La Union': 19.87943458557129,\n",
       " 'Lamas': 5559.1611328125,\n",
       " 'Lambayeque': 176.84902954101562,\n",
       " 'Lampa': 1161.60302734375,\n",
       " 'Lauricocha': None,\n",
       " 'Leoncio Prado': 30044.607421875,\n",
       " 'Lima': None,\n",
       " 'Loreto': 21439.66796875,\n",
       " 'Lucanas': None,\n",
       " 'Luya': 644.5328979492188,\n",
       " 'Manu': 1058.5162353515625,\n",
       " 'Marañon': 2037.586181640625,\n",
       " 'Mariscal Caceres': 10544.388671875,\n",
       " 'Mariscal Luzuriaga': 61.49796676635742,\n",
       " 'Mariscal Nieto': 110.9760513305664,\n",
       " 'Mariscal Ramon Castilla': 31504.18359375,\n",
       " 'Maynas': 152811.328125,\n",
       " 'Melgar': None,\n",
       " 'Moho': 1.9676084518432617,\n",
       " 'Morropon': 543.6802368164062,\n",
       " 'Moyobamba': 5748.337890625,\n",
       " 'Nasca': 163.20928955078125,\n",
       " 'Ocros': None,\n",
       " 'Otuzco': None,\n",
       " 'Oxapampa': 2485.69921875,\n",
       " 'Oyon': None,\n",
       " 'Pacasmayo': None,\n",
       " 'Pachitea': 1506.3668212890625,\n",
       " 'Padre Abad': 1856.46875,\n",
       " 'Pataz': 2699.446044921875,\n",
       " 'Paucar Del Sara Sara': 4.390487194061279,\n",
       " 'Paucartambo': 460.11724853515625,\n",
       " 'Picota': 13151.4638671875,\n",
       " 'Pisco': None,\n",
       " 'Piura': 168890.90625,\n",
       " 'Pomabamba': 88.64736938476562,\n",
       " 'Puerto Inca': 4996.98388671875,\n",
       " 'Puno': 3034.022216796875,\n",
       " 'Purus': 346.0662841796875,\n",
       " 'Putumayo': 1532.3421630859375,\n",
       " 'Quispicanchi': 5739.63330078125,\n",
       " 'Recuay': None,\n",
       " 'Requena': 32590.29296875,\n",
       " 'Rioja': 113.40144348144531,\n",
       " 'Rodriguez De Mendoza': None,\n",
       " 'San Antonio De Putina': None,\n",
       " 'San Ignacio': 3227.859130859375,\n",
       " 'San Marcos': 626.39013671875,\n",
       " 'San Martin': 11745.4345703125,\n",
       " 'San Miguel': None,\n",
       " 'San Pablo': None,\n",
       " 'San Roman': 548.6328735351562,\n",
       " 'Sanchez Carrion': 906.4541015625,\n",
       " 'Sandia': 106.62862396240234,\n",
       " 'Santa': 15026.837890625,\n",
       " 'Santa Cruz': None,\n",
       " 'Santiago De Chuco': 16.941102981567383,\n",
       " 'Satipo': 16925.8984375,\n",
       " 'Sechura': 12720.9306640625,\n",
       " 'Sihuas': 179.90943908691406,\n",
       " 'Sucre': 98.49009704589844,\n",
       " 'Sullana': 24404.955078125,\n",
       " 'Tacna': None,\n",
       " 'Tahuamanu': 975.62353515625,\n",
       " 'Talara': 93.9042739868164,\n",
       " 'Tambopata': 20952.8828125,\n",
       " 'Tarata': None,\n",
       " 'Tarma': None,\n",
       " 'Tayacaja': 5630.662109375,\n",
       " 'Tocache': 10287.400390625,\n",
       " 'Trujillo': None,\n",
       " 'Tumbes': 24587.623046875,\n",
       " 'Ucayali': 22301.302734375,\n",
       " 'Under National Administration': 123.595703125,\n",
       " 'Urubamba': 19627.662109375,\n",
       " 'Utcubamba': 8963.8740234375,\n",
       " 'Victor Fajardo': 267.93792724609375,\n",
       " 'Vilcas Huaman': 1204.840576171875,\n",
       " 'Viru': 4911.99951171875,\n",
       " 'Yarowilca': None,\n",
       " 'Yauli': None,\n",
       " 'Yauyos': 173.40704345703125,\n",
       " 'Yungay': None,\n",
       " 'Yunguyo': 1141.156494140625,\n",
       " 'Zarumilla': None,\n",
       " 'Paita': 11194.30078125,\n",
       " 'Pallasca': 113.38533020019531,\n",
       " 'Palpa': None,\n",
       " 'Parinacochas': None,\n",
       " 'Paruro': 362.763671875,\n",
       " 'Pasco': None}"
      ]
     },
     "execution_count": 50,
     "metadata": {},
     "output_type": "execute_result"
    }
   ],
   "source": [
    "res"
   ]
  },
  {
   "cell_type": "code",
   "execution_count": 51,
   "id": "bc886e74",
   "metadata": {},
   "outputs": [
    {
     "data": {
      "text/plain": [
       "1131135.115685165"
      ]
     },
     "execution_count": 51,
     "metadata": {},
     "output_type": "execute_result"
    }
   ],
   "source": [
    "sum([v for k, v in res.items() if v is not None])"
   ]
  }
 ],
 "metadata": {
  "kernelspec": {
   "display_name": "Python 3 (ipykernel)",
   "language": "python",
   "name": "python3"
  },
  "language_info": {
   "codemirror_mode": {
    "name": "ipython",
    "version": 3
   },
   "file_extension": ".py",
   "mimetype": "text/x-python",
   "name": "python",
   "nbconvert_exporter": "python",
   "pygments_lexer": "ipython3",
   "version": "3.11.0"
  }
 },
 "nbformat": 4,
 "nbformat_minor": 5
}
