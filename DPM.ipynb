{
 "cells": [
  {
   "cell_type": "markdown",
   "id": "120ddcd0",
   "metadata": {},
   "source": [
    "# Damage Proxy Map"
   ]
  },
  {
   "cell_type": "code",
   "execution_count": 1,
   "id": "c9bd9795",
   "metadata": {},
   "outputs": [],
   "source": [
    "import fiona\n",
    "import json\n",
    "import rasterio\n",
    "import numpy as np\n",
    "from glob import glob\n",
    "from os.path import join, isfile, isdir\n",
    "from os import mkdir\n",
    "from matplotlib import pyplot as plt\n",
    "from rasterio import features\n",
    "from rasterio.mask import mask\n",
    "from rasterio.merge import merge\n",
    "from rasterstats import zonal_stats\n",
    "from shapely.geometry import shape, box, mapping\n",
    "from shapely import unary_union\n",
    "import numpy as np"
   ]
  },
  {
   "cell_type": "markdown",
   "id": "ad519a2b",
   "metadata": {},
   "source": [
    "## Define paths to the required files"
   ]
  },
  {
   "cell_type": "code",
   "execution_count": 2,
   "id": "cbe2e65b",
   "metadata": {},
   "outputs": [],
   "source": [
    "WORKDIR = \"/Users/jorgemartinez/data/Automation/\"\n",
    "OUTPUT_DIR = \"/Users/jorgemartinez/data/Automation/outputs\"\n",
    "\n",
    "RASTER_DPM_FOLDER = join(WORKDIR, \"DPM\", \"*.tif\")\n",
    "\n",
    "BUILDING_FOOTPRINTS_PATH = join(WORKDIR, \"Building Footprints_byMicrosoft\", \"syria_buildingfootprints.shp\")\n",
    "BOUNDARIES_PATH = join(WORKDIR, \"Admin_bound_level2\", \"syria_admin2.shp\")\n",
    "SHAKEMAP_BOUNDARIES_PATH = join(WORKDIR, \"MISC\", \"shakemap.shp\")\n",
    "DLR_FOOTPRINTS_PATH = join(WORKDIR, \"DLR\", \"syria84.shp\")\n",
    "\n",
    "BOUNDARIES_NAME_FIELD = \"adm2_name\"\n",
    "\n",
    "RASTER_MOSAIC = join(OUTPUT_DIR, \"mosaic.tif\")\n",
    "WORLDPOP_RASTER_PATH = join(WORKDIR, \"WorldPop2020\", \"syr_ppp_2020_UNadj.tif\")\n",
    "VECTOR_DPM = join(OUTPUT_DIR, \"vector_dpm\")\n",
    "LABELED_BUILDINGS = join(OUTPUT_DIR, \"labeled_buildings\")\n",
    "LABELED_DLR = join(OUTPUT_DIR, \"labeled_dlr\")\n",
    "\n",
    "if isdir(OUTPUT_DIR) is False:\n",
    "    mkdir(OUTPUT_DIR)"
   ]
  },
  {
   "cell_type": "markdown",
   "id": "a9bd437a",
   "metadata": {},
   "source": [
    "## Merge rasters"
   ]
  },
  {
   "cell_type": "code",
   "execution_count": 4,
   "id": "f9675bd7",
   "metadata": {},
   "outputs": [],
   "source": [
    "if isfile(RASTER_MOSAIC) is False:\n",
    "    rasters = [rasterio.open(f) for f in glob(RASTER_DPM_FOLDER)]\n",
    "    print(f\"Found {len(rasters)} raster files\")\n",
    "    mosaic, out_transform = merge(rasters, method=\"max\")\n",
    "    _, height, width = mosaic.shape\n",
    "\n",
    "    metadata = rasters[0].meta.copy()\n",
    "    out_meta = {**metadata, \"height\": height, \"width\": width, \"transform\": out_transform}\n",
    "\n",
    "    with rasterio.open(RASTER_MOSAIC, \"w\", **out_meta) as dest:\n",
    "        dest.write(mosaic)"
   ]
  },
  {
   "cell_type": "markdown",
   "id": "f7f403d8",
   "metadata": {},
   "source": [
    "# DLR urban polygons based analysis (Sirio's workflow)"
   ]
  },
  {
   "cell_type": "markdown",
   "id": "53872ec7",
   "metadata": {},
   "source": [
    "## Apply zonal statistics using DLR polygons and get count of 255 pixels."
   ]
  },
  {
   "cell_type": "code",
   "execution_count": 5,
   "id": "dc6d7d30",
   "metadata": {},
   "outputs": [
    {
     "name": "stderr",
     "output_type": "stream",
     "text": [
      "/Users/jorgemartinez/venvs/dpm/lib/python3.11/site-packages/rasterstats/io.py:335: NodataWarning: Setting nodata to -999; specify nodata explicitly\n",
      "  warnings.warn(\n"
     ]
    }
   ],
   "source": [
    "def count_threshold(mask):\n",
    "    return np.count_nonzero(mask == 255)\n",
    "\n",
    "stat_name = \"count_px\"\n",
    "stats = zonal_stats(DLR_FOOTPRINTS_PATH, RASTER_MOSAIC, add_stats={stat_name: count_threshold}, geojson_out=True)\n",
    "\n",
    "# Remove the geometries without threshold_count.\n",
    "filtered_dlr_polygons = [d for d in stats if d[\"properties\"][stat_name] > 0]"
   ]
  },
  {
   "cell_type": "code",
   "execution_count": 17,
   "id": "f905135e",
   "metadata": {},
   "outputs": [
    {
     "data": {
      "text/plain": [
       "{'type': 'Feature',\n",
       " 'id': '4',\n",
       " 'properties': OrderedDict([('FID', 4),\n",
       "              ('min', 0.0),\n",
       "              ('max', 255.0),\n",
       "              ('mean', 7.183098591549296),\n",
       "              ('count', 71),\n",
       "              ('count_px', 2),\n",
       "              ('sum', 10.125910758972168)]),\n",
       " 'geometry': {'type': 'Polygon',\n",
       "  'coordinates': [[(38.197623522159795, 36.89515619171493),\n",
       "    (38.196765560882575, 36.89537620877864),\n",
       "    (38.19642895582934, 36.895864141357784),\n",
       "    (38.196061558914316, 36.89578176654801),\n",
       "    (38.19620183295136, 36.895156191714925),\n",
       "    (38.19611103643582, 36.894751949837065),\n",
       "    (38.19628762907909, 36.89396399398921),\n",
       "    (38.195574152691805, 36.89369871025689),\n",
       "    (38.194818567775584, 36.89585466693875),\n",
       "    (38.19430905457536, 36.89620627315543),\n",
       "    (38.196144196902374, 36.896677362323004),\n",
       "    (38.196875569414445, 36.89620100958932),\n",
       "    (38.197194541521185, 36.896663150694486),\n",
       "    (38.19763089115237, 36.89688316775821),\n",
       "    (38.19800302527689, 36.89634417858774),\n",
       "    (38.198321997383644, 36.896124161524014),\n",
       "    (38.19854201444737, 36.89561806964178),\n",
       "    (38.197733530691664, 36.89531567776829),\n",
       "    (38.197623522159795, 36.89515619171493)]]}}"
      ]
     },
     "execution_count": 17,
     "metadata": {},
     "output_type": "execute_result"
    }
   ],
   "source": [
    "filtered_dlr_polygons[0]"
   ]
  },
  {
   "cell_type": "markdown",
   "id": "9bf15ade",
   "metadata": {},
   "source": [
    "## Apply zonal statistics to the DLR filtered polygons with the World Pop raster"
   ]
  },
  {
   "cell_type": "code",
   "execution_count": 6,
   "id": "4798a125",
   "metadata": {},
   "outputs": [],
   "source": [
    "stats = zonal_stats(filtered_dlr_polygons, WORLDPOP_RASTER_PATH, stats=[\"sum\"], geojson_out=True)"
   ]
  },
  {
   "cell_type": "markdown",
   "id": "627a7b2f",
   "metadata": {},
   "source": [
    "## Label the DLR polygon using the admin boundary."
   ]
  },
  {
   "cell_type": "code",
   "execution_count": 7,
   "id": "000aa8fb",
   "metadata": {},
   "outputs": [
    {
     "name": "stdout",
     "output_type": "stream",
     "text": [
      "Found 1 dlr polygons in Dreikish\n",
      "Found 0 dlr polygons in Duma\n",
      "Found 299 dlr polygons in Hama\n",
      "Found 96 dlr polygons in Harim\n",
      "Found 331 dlr polygons in Homs\n",
      "Found 181 dlr polygons in Idleb\n",
      "Found 0 dlr polygons in Izra'\n",
      "Found 59 dlr polygons in Masyaf\n",
      "Found 231 dlr polygons in Menbij\n",
      "Found 45 dlr polygons in Muhradah\n",
      "Found 0 dlr polygons in Qatana\n",
      "Found 0 dlr polygons in Ras Al Ain\n",
      "Found 0 dlr polygons in Rural Damascus\n",
      "Found 0 dlr polygons in Al Qutayfah\n",
      "Found 0 dlr polygons in Shahba\n",
      "Found 290 dlr polygons in A'Zaz\n",
      "Found 26 dlr polygons in Al-Qardaha\n",
      "Found 32 dlr polygons in Safita\n",
      "Found 0 dlr polygons in Abu Kamal\n",
      "Found 212 dlr polygons in Afrin\n",
      "Found 54 dlr polygons in Ain Al Arab\n",
      "Found 60 dlr polygons in Al-Qusayr\n",
      "Found 0 dlr polygons in Tell Abiad\n",
      "Found 61 dlr polygons in Al-Haffa\n",
      "Found 0 dlr polygons in Al-Hasakeh\n",
      "Found 0 dlr polygons in Al-Malikeyyeh\n",
      "Found 505 dlr polygons in Al Bab\n",
      "Found 0 dlr polygons in Al Fiq\n",
      "Found 270 dlr polygons in Al Ma'Ra\n",
      "Found 52 dlr polygons in Al Makhrim\n",
      "Found 0 dlr polygons in Al Mayadin\n",
      "Found 0 dlr polygons in An Nabk\n",
      "Found 0 dlr polygons in Ar-Raqqa\n",
      "Found 22 dlr polygons in Banyas\n",
      "Found 56 dlr polygons in Ar-Rastan\n",
      "Found 84 dlr polygons in Ariha\n",
      "Found 14 dlr polygons in Sheikh Badr\n",
      "Found 161 dlr polygons in As-Safira\n",
      "Found 143 dlr polygons in As-Salamiyeh\n",
      "Found 0 dlr polygons in As-Sanamayn\n",
      "Found 102 dlr polygons in As-Suqaylabiyah\n",
      "Found 1 dlr polygons in Tadmor\n",
      "Found 75 dlr polygons in Tall Kalakh\n",
      "Found 0 dlr polygons in As-Sweida\n",
      "Found 0 dlr polygons in At Tall\n",
      "Found 7 dlr polygons in Ath-Thawrah\n",
      "Found 0 dlr polygons in Az-Zabdani\n",
      "Found 33 dlr polygons in Qadmous\n",
      "Found 0 dlr polygons in Damascus\n",
      "Found 0 dlr polygons in Dar'A\n",
      "Found 0 dlr polygons in Darayya\n",
      "Found 0 dlr polygons in Deir-Ez-Zor\n",
      "Found 67 dlr polygons in Jablah\n",
      "Found 66 dlr polygons in Jarablus\n",
      "Found 692 dlr polygons in Jebel Saman\n",
      "Found 88 dlr polygons in Jisr-Ash-Shugur\n",
      "Found 56 dlr polygons in Lattakia\n",
      "Found 0 dlr polygons in Quamishli\n",
      "Found 0 dlr polygons in Quneitra\n",
      "Found 0 dlr polygons in Salkhad\n",
      "Found 64 dlr polygons in Tartous\n",
      "Found 0 dlr polygons in Yabroud\n"
     ]
    }
   ],
   "source": [
    "shapely_features = [{\n",
    "    \"properties\": feat[\"properties\"],\n",
    "    \"shape\": shape(feat[\"geometry\"])\n",
    "} for feat in stats]\n",
    "\n",
    "def assign_name(feature, shapely_features):\n",
    "    name = feature[\"properties\"][BOUNDARIES_NAME_FIELD]    \n",
    "    boundary_shape = shape(feature[\"geometry\"])\n",
    "\n",
    "    filtered_dlr_polygons = [f for f in shapely_features if boundary_shape.contains(f[\"shape\"])]\n",
    "    print(f\"Found {len(filtered_dlr_polygons)} dlr polygons in {name}\")\n",
    "    \n",
    "    return {\n",
    "        \"name\": name,\n",
    "        \"dlr_polygons\": filtered_dlr_polygons,\n",
    "    }\n",
    "\n",
    "\n",
    "with fiona.open(BOUNDARIES_PATH, \"r\") as shapefile:\n",
    "    dlr_polygons_with_names = [assign_name(feature, shapely_features) for feature in shapefile]"
   ]
  },
  {
   "cell_type": "code",
   "execution_count": 8,
   "id": "b60e84fd",
   "metadata": {},
   "outputs": [],
   "source": [
    "schema = {\n",
    "    \"geometry\": \"Polygon\",\n",
    "    \"properties\": {\n",
    "        stat_name: \"int\",\n",
    "        \"name\": \"str\",\n",
    "        \"population_sum\": \"float\"\n",
    "    }\n",
    "}\n",
    "    \n",
    "with fiona.collection(LABELED_DLR, \"w\", schema=schema, driver=\"ESRI Shapefile\") as output:\n",
    "    for item in dlr_polygons_with_names:    \n",
    "        adm_name = item[\"name\"]\n",
    "        for feature in item[\"dlr_polygons\"]:        \n",
    "            properties = {\n",
    "                stat_name: feature[\"properties\"][stat_name],\n",
    "                \"population_sum\": feature[\"properties\"][\"sum\"],\n",
    "                \"name\": adm_name\n",
    "            }\n",
    "\n",
    "            output.write({\n",
    "                \"type\": \"Feature\",\n",
    "                \"geometry\": mapping(feature[\"shape\"]),\n",
    "                \"properties\": properties\n",
    "            })\n",
    "\n",
    "    "
   ]
  },
  {
   "cell_type": "code",
   "execution_count": 15,
   "id": "61863da5",
   "metadata": {},
   "outputs": [
    {
     "data": {
      "text/plain": [
       "{'name': \"Izra'\", 'dlr_polygons': []}"
      ]
     },
     "execution_count": 15,
     "metadata": {},
     "output_type": "execute_result"
    }
   ],
   "source": [
    "dlr_polygons_with_names[6]"
   ]
  },
  {
   "cell_type": "markdown",
   "id": "7bfc616d",
   "metadata": {},
   "source": [
    "## Clipping raster using the country boundaries as bounding box"
   ]
  },
  {
   "cell_type": "code",
   "execution_count": null,
   "id": "dcc9923c",
   "metadata": {},
   "outputs": [],
   "source": [
    "with rasterio.open(RASTER_MOSAIC, \"r\") as dataset:\n",
    "    with fiona.open(BOUNDARIES_PATH, \"r\") as shapefile:\n",
    "        bbox = box(*shapefile.bounds)\n",
    "    out_image, out_transform = mask(dataset, [bbox], crop=True)\n",
    "    _, height, width = out_image.shape\n",
    "    band_4 = out_image[3, :, :]\n",
    "    \n",
    "    # Transform to vector data.\n",
    "    condition = (band_4 == 255).astype(np.uint8)\n",
    "    dpm_polygons = [shape(coords) for coords, value in\n",
    "                    features.shapes(condition, transform=out_transform, connectivity=8) if value != 0]"
   ]
  },
  {
   "cell_type": "code",
   "execution_count": null,
   "id": "72fd3b62",
   "metadata": {},
   "outputs": [],
   "source": [
    "len(dpm_polygons)"
   ]
  },
  {
   "cell_type": "markdown",
   "id": "90b77a46",
   "metadata": {},
   "source": [
    "## Saving dpm polygons"
   ]
  },
  {
   "cell_type": "code",
   "execution_count": null,
   "id": "5bd38c09",
   "metadata": {},
   "outputs": [],
   "source": [
    "schema = {\n",
    "    \"geometry\": \"Polygon\",\n",
    "    \"properties\": {}\n",
    "}\n",
    "\n",
    "def write_shape(name, polygon, output):\n",
    "    output.write({\n",
    "        \"type\": \"Feature\",\n",
    "        \"geometry\": polygon,\n",
    "        \"properties\": {\"name\": name}\n",
    "    })\n",
    "    \n",
    "with fiona.collection(VECTOR_DPM, \"w\", schema=schema, driver=\"ESRI Shapefile\") as output:\n",
    "    for polygon in dpm_polygons:    \n",
    "        output.write({\n",
    "            \"type\": \"Feature\",\n",
    "            \"geometry\": mapping(polygon),\n",
    "            \"properties\": {}\n",
    "        })\n"
   ]
  },
  {
   "cell_type": "markdown",
   "id": "75a26a5d",
   "metadata": {},
   "source": [
    "## Filter buildings within the dpm polygons set"
   ]
  },
  {
   "cell_type": "code",
   "execution_count": null,
   "id": "055e61a1",
   "metadata": {},
   "outputs": [],
   "source": [
    "dpm_buildings = []\n",
    "buildings_shp = fiona.open(BUILDING_FOOTPRINTS_PATH, \"r\")\n",
    "for polygon in dpm_polygons:    \n",
    "    filtered_buildings = buildings_shp.filter(bbox=(polygon.bounds))\n",
    "    for building in filtered_buildings:\n",
    "        fid = building.properties[\"FID_1\"]        \n",
    "        building_shape = shape(building.geometry)\n",
    "        if building_shape.intersects(polygon) is False:\n",
    "            continue\n",
    "        \"\"\"\n",
    "        if fid in [f[\"id\"] for f in dpm_buildings]:\n",
    "            continue\n",
    "        \"\"\"\n",
    "        matched_building = {\"id\": fid, \"shape\": building_shape}\n",
    "        dpm_buildings.append(matched_building)\n",
    "buildings_shp.close()\n",
    "dpm_buildings = [d[\"shape\"] for d in dpm_buildings]"
   ]
  },
  {
   "cell_type": "code",
   "execution_count": null,
   "id": "6455987c",
   "metadata": {},
   "outputs": [],
   "source": [
    "len(dpm_buildings)"
   ]
  },
  {
   "cell_type": "markdown",
   "id": "15cdc88b",
   "metadata": {},
   "source": [
    "## Label buildings using admin level 2"
   ]
  },
  {
   "cell_type": "code",
   "execution_count": null,
   "id": "02bb0bce",
   "metadata": {},
   "outputs": [],
   "source": [
    "def assign_name(feature, dpm_buildings):\n",
    "    name = feature[\"properties\"][BOUNDARIES_NAME_FIELD]    \n",
    "    boundary_shape = shape(feature[\"geometry\"])\n",
    "\n",
    "    filtered_buildings = [f for f in dpm_buildings if boundary_shape.contains(f)]\n",
    "    print(f\"Found {len(filtered_buildings)} buildings in {name}\")\n",
    "\n",
    "    return {\n",
    "        \"name\": name,\n",
    "        \"buildings\": filtered_buildings,\n",
    "    }\n",
    "    \n",
    "with fiona.open(BOUNDARIES_PATH, \"r\") as boundaries_shp:\n",
    "    dpm_buildings_with_label = [assign_name(boundary, dpm_buildings) for boundary in boundaries_shp]"
   ]
  },
  {
   "cell_type": "markdown",
   "id": "9db65f1c",
   "metadata": {},
   "source": [
    "## Saving result to shapefile"
   ]
  },
  {
   "cell_type": "code",
   "execution_count": null,
   "id": "e22a059e",
   "metadata": {},
   "outputs": [],
   "source": [
    "schema = {\n",
    "    \"geometry\": \"Polygon\",\n",
    "    \"properties\": {\"name\": \"str\"}\n",
    "}\n",
    "with fiona.collection(LABELED_BUILDINGS, \"w\", schema=schema, driver=\"ESRI Shapefile\") as output:\n",
    "    for item in dpm_buildings_with_label:\n",
    "        name = item[\"name\"]\n",
    "        for item_geom in item[\"buildings\"]:\n",
    "            output.write({\n",
    "                \"type\": \"Feature\",\n",
    "                \"geometry\": mapping(item_geom),\n",
    "                \"properties\": {\"name\": name}\n",
    "            })"
   ]
  }
 ],
 "metadata": {
  "kernelspec": {
   "display_name": "Python 3 (ipykernel)",
   "language": "python",
   "name": "python3"
  },
  "language_info": {
   "codemirror_mode": {
    "name": "ipython",
    "version": 3
   },
   "file_extension": ".py",
   "mimetype": "text/x-python",
   "name": "python",
   "nbconvert_exporter": "python",
   "pygments_lexer": "ipython3",
   "version": "3.11.1"
  }
 },
 "nbformat": 4,
 "nbformat_minor": 5
}
